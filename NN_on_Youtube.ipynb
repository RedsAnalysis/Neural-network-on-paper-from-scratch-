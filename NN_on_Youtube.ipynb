{
  "cells": [
    {
      "cell_type": "markdown",
      "metadata": {
        "id": "view-in-github",
        "colab_type": "text"
      },
      "source": [
        "<a href=\"https://colab.research.google.com/github/RedsAnalysis/Neural-network-on-paper-from-scratch-/blob/main/NN_on_Youtube.ipynb\" target=\"_parent\"><img src=\"https://colab.research.google.com/assets/colab-badge.svg\" alt=\"Open In Colab\"/></a>"
      ]
    },
    {
      "cell_type": "code",
      "execution_count": null,
      "metadata": {
        "id": "7_ugSHYQfpAH"
      },
      "outputs": [],
      "source": [
        "import numpy as np\n",
        "import pandas as pd\n",
        "from matplotlib import pyplot as plt\n"
      ]
    },
    {
      "cell_type": "code",
      "execution_count": null,
      "metadata": {
        "id": "RgyG8SMg0s0H"
      },
      "outputs": [],
      "source": []
    },
    {
      "cell_type": "code",
      "execution_count": null,
      "metadata": {
        "id": "ftAI-B-AxE9c"
      },
      "outputs": [],
      "source": []
    },
    {
      "cell_type": "code",
      "execution_count": null,
      "metadata": {
        "id": "8FhwXfMlf0ty"
      },
      "outputs": [],
      "source": [
        "data1 = pd.read_csv(\"mnist_test.csv\")\n",
        "data2 = pd.read_csv(\"mnist_train.csv\")"
      ]
    },
    {
      "cell_type": "code",
      "execution_count": null,
      "metadata": {
        "colab": {
          "base_uri": "https://localhost:8080/",
          "height": 253
        },
        "id": "GA2Cnv65idMs",
        "outputId": "53a32f96-b2ee-4af2-97e2-4d17c85a7f0d"
      },
      "outputs": [
        {
          "output_type": "execute_result",
          "data": {
            "text/plain": [
              "   label  1x1  1x2  1x3  1x4  1x5  1x6  1x7  1x8  1x9  ...  28x19  28x20  \\\n",
              "0      5    0    0    0    0    0    0    0    0    0  ...      0      0   \n",
              "1      0    0    0    0    0    0    0    0    0    0  ...      0      0   \n",
              "2      4    0    0    0    0    0    0    0    0    0  ...      0      0   \n",
              "3      1    0    0    0    0    0    0    0    0    0  ...      0      0   \n",
              "4      9    0    0    0    0    0    0    0    0    0  ...      0      0   \n",
              "\n",
              "   28x21  28x22  28x23  28x24  28x25  28x26  28x27  28x28  \n",
              "0      0      0      0      0      0      0      0      0  \n",
              "1      0      0      0      0      0      0      0      0  \n",
              "2      0      0      0      0      0      0      0      0  \n",
              "3      0      0      0      0      0      0      0      0  \n",
              "4      0      0      0      0      0      0      0      0  \n",
              "\n",
              "[5 rows x 785 columns]"
            ],
            "text/html": [
              "\n",
              "  <div id=\"df-6e8b93c3-51bb-40bc-a7b0-77a6438d0721\" class=\"colab-df-container\">\n",
              "    <div>\n",
              "<style scoped>\n",
              "    .dataframe tbody tr th:only-of-type {\n",
              "        vertical-align: middle;\n",
              "    }\n",
              "\n",
              "    .dataframe tbody tr th {\n",
              "        vertical-align: top;\n",
              "    }\n",
              "\n",
              "    .dataframe thead th {\n",
              "        text-align: right;\n",
              "    }\n",
              "</style>\n",
              "<table border=\"1\" class=\"dataframe\">\n",
              "  <thead>\n",
              "    <tr style=\"text-align: right;\">\n",
              "      <th></th>\n",
              "      <th>label</th>\n",
              "      <th>1x1</th>\n",
              "      <th>1x2</th>\n",
              "      <th>1x3</th>\n",
              "      <th>1x4</th>\n",
              "      <th>1x5</th>\n",
              "      <th>1x6</th>\n",
              "      <th>1x7</th>\n",
              "      <th>1x8</th>\n",
              "      <th>1x9</th>\n",
              "      <th>...</th>\n",
              "      <th>28x19</th>\n",
              "      <th>28x20</th>\n",
              "      <th>28x21</th>\n",
              "      <th>28x22</th>\n",
              "      <th>28x23</th>\n",
              "      <th>28x24</th>\n",
              "      <th>28x25</th>\n",
              "      <th>28x26</th>\n",
              "      <th>28x27</th>\n",
              "      <th>28x28</th>\n",
              "    </tr>\n",
              "  </thead>\n",
              "  <tbody>\n",
              "    <tr>\n",
              "      <th>0</th>\n",
              "      <td>5</td>\n",
              "      <td>0</td>\n",
              "      <td>0</td>\n",
              "      <td>0</td>\n",
              "      <td>0</td>\n",
              "      <td>0</td>\n",
              "      <td>0</td>\n",
              "      <td>0</td>\n",
              "      <td>0</td>\n",
              "      <td>0</td>\n",
              "      <td>...</td>\n",
              "      <td>0</td>\n",
              "      <td>0</td>\n",
              "      <td>0</td>\n",
              "      <td>0</td>\n",
              "      <td>0</td>\n",
              "      <td>0</td>\n",
              "      <td>0</td>\n",
              "      <td>0</td>\n",
              "      <td>0</td>\n",
              "      <td>0</td>\n",
              "    </tr>\n",
              "    <tr>\n",
              "      <th>1</th>\n",
              "      <td>0</td>\n",
              "      <td>0</td>\n",
              "      <td>0</td>\n",
              "      <td>0</td>\n",
              "      <td>0</td>\n",
              "      <td>0</td>\n",
              "      <td>0</td>\n",
              "      <td>0</td>\n",
              "      <td>0</td>\n",
              "      <td>0</td>\n",
              "      <td>...</td>\n",
              "      <td>0</td>\n",
              "      <td>0</td>\n",
              "      <td>0</td>\n",
              "      <td>0</td>\n",
              "      <td>0</td>\n",
              "      <td>0</td>\n",
              "      <td>0</td>\n",
              "      <td>0</td>\n",
              "      <td>0</td>\n",
              "      <td>0</td>\n",
              "    </tr>\n",
              "    <tr>\n",
              "      <th>2</th>\n",
              "      <td>4</td>\n",
              "      <td>0</td>\n",
              "      <td>0</td>\n",
              "      <td>0</td>\n",
              "      <td>0</td>\n",
              "      <td>0</td>\n",
              "      <td>0</td>\n",
              "      <td>0</td>\n",
              "      <td>0</td>\n",
              "      <td>0</td>\n",
              "      <td>...</td>\n",
              "      <td>0</td>\n",
              "      <td>0</td>\n",
              "      <td>0</td>\n",
              "      <td>0</td>\n",
              "      <td>0</td>\n",
              "      <td>0</td>\n",
              "      <td>0</td>\n",
              "      <td>0</td>\n",
              "      <td>0</td>\n",
              "      <td>0</td>\n",
              "    </tr>\n",
              "    <tr>\n",
              "      <th>3</th>\n",
              "      <td>1</td>\n",
              "      <td>0</td>\n",
              "      <td>0</td>\n",
              "      <td>0</td>\n",
              "      <td>0</td>\n",
              "      <td>0</td>\n",
              "      <td>0</td>\n",
              "      <td>0</td>\n",
              "      <td>0</td>\n",
              "      <td>0</td>\n",
              "      <td>...</td>\n",
              "      <td>0</td>\n",
              "      <td>0</td>\n",
              "      <td>0</td>\n",
              "      <td>0</td>\n",
              "      <td>0</td>\n",
              "      <td>0</td>\n",
              "      <td>0</td>\n",
              "      <td>0</td>\n",
              "      <td>0</td>\n",
              "      <td>0</td>\n",
              "    </tr>\n",
              "    <tr>\n",
              "      <th>4</th>\n",
              "      <td>9</td>\n",
              "      <td>0</td>\n",
              "      <td>0</td>\n",
              "      <td>0</td>\n",
              "      <td>0</td>\n",
              "      <td>0</td>\n",
              "      <td>0</td>\n",
              "      <td>0</td>\n",
              "      <td>0</td>\n",
              "      <td>0</td>\n",
              "      <td>...</td>\n",
              "      <td>0</td>\n",
              "      <td>0</td>\n",
              "      <td>0</td>\n",
              "      <td>0</td>\n",
              "      <td>0</td>\n",
              "      <td>0</td>\n",
              "      <td>0</td>\n",
              "      <td>0</td>\n",
              "      <td>0</td>\n",
              "      <td>0</td>\n",
              "    </tr>\n",
              "  </tbody>\n",
              "</table>\n",
              "<p>5 rows × 785 columns</p>\n",
              "</div>\n",
              "    <div class=\"colab-df-buttons\">\n",
              "\n",
              "  <div class=\"colab-df-container\">\n",
              "    <button class=\"colab-df-convert\" onclick=\"convertToInteractive('df-6e8b93c3-51bb-40bc-a7b0-77a6438d0721')\"\n",
              "            title=\"Convert this dataframe to an interactive table.\"\n",
              "            style=\"display:none;\">\n",
              "\n",
              "  <svg xmlns=\"http://www.w3.org/2000/svg\" height=\"24px\" viewBox=\"0 -960 960 960\">\n",
              "    <path d=\"M120-120v-720h720v720H120Zm60-500h600v-160H180v160Zm220 220h160v-160H400v160Zm0 220h160v-160H400v160ZM180-400h160v-160H180v160Zm440 0h160v-160H620v160ZM180-180h160v-160H180v160Zm440 0h160v-160H620v160Z\"/>\n",
              "  </svg>\n",
              "    </button>\n",
              "\n",
              "  <style>\n",
              "    .colab-df-container {\n",
              "      display:flex;\n",
              "      gap: 12px;\n",
              "    }\n",
              "\n",
              "    .colab-df-convert {\n",
              "      background-color: #E8F0FE;\n",
              "      border: none;\n",
              "      border-radius: 50%;\n",
              "      cursor: pointer;\n",
              "      display: none;\n",
              "      fill: #1967D2;\n",
              "      height: 32px;\n",
              "      padding: 0 0 0 0;\n",
              "      width: 32px;\n",
              "    }\n",
              "\n",
              "    .colab-df-convert:hover {\n",
              "      background-color: #E2EBFA;\n",
              "      box-shadow: 0px 1px 2px rgba(60, 64, 67, 0.3), 0px 1px 3px 1px rgba(60, 64, 67, 0.15);\n",
              "      fill: #174EA6;\n",
              "    }\n",
              "\n",
              "    .colab-df-buttons div {\n",
              "      margin-bottom: 4px;\n",
              "    }\n",
              "\n",
              "    [theme=dark] .colab-df-convert {\n",
              "      background-color: #3B4455;\n",
              "      fill: #D2E3FC;\n",
              "    }\n",
              "\n",
              "    [theme=dark] .colab-df-convert:hover {\n",
              "      background-color: #434B5C;\n",
              "      box-shadow: 0px 1px 3px 1px rgba(0, 0, 0, 0.15);\n",
              "      filter: drop-shadow(0px 1px 2px rgba(0, 0, 0, 0.3));\n",
              "      fill: #FFFFFF;\n",
              "    }\n",
              "  </style>\n",
              "\n",
              "    <script>\n",
              "      const buttonEl =\n",
              "        document.querySelector('#df-6e8b93c3-51bb-40bc-a7b0-77a6438d0721 button.colab-df-convert');\n",
              "      buttonEl.style.display =\n",
              "        google.colab.kernel.accessAllowed ? 'block' : 'none';\n",
              "\n",
              "      async function convertToInteractive(key) {\n",
              "        const element = document.querySelector('#df-6e8b93c3-51bb-40bc-a7b0-77a6438d0721');\n",
              "        const dataTable =\n",
              "          await google.colab.kernel.invokeFunction('convertToInteractive',\n",
              "                                                    [key], {});\n",
              "        if (!dataTable) return;\n",
              "\n",
              "        const docLinkHtml = 'Like what you see? Visit the ' +\n",
              "          '<a target=\"_blank\" href=https://colab.research.google.com/notebooks/data_table.ipynb>data table notebook</a>'\n",
              "          + ' to learn more about interactive tables.';\n",
              "        element.innerHTML = '';\n",
              "        dataTable['output_type'] = 'display_data';\n",
              "        await google.colab.output.renderOutput(dataTable, element);\n",
              "        const docLink = document.createElement('div');\n",
              "        docLink.innerHTML = docLinkHtml;\n",
              "        element.appendChild(docLink);\n",
              "      }\n",
              "    </script>\n",
              "  </div>\n",
              "\n",
              "\n",
              "<div id=\"df-afbf372f-b358-4a28-a3e2-76350ce6c89e\">\n",
              "  <button class=\"colab-df-quickchart\" onclick=\"quickchart('df-afbf372f-b358-4a28-a3e2-76350ce6c89e')\"\n",
              "            title=\"Suggest charts\"\n",
              "            style=\"display:none;\">\n",
              "\n",
              "<svg xmlns=\"http://www.w3.org/2000/svg\" height=\"24px\"viewBox=\"0 0 24 24\"\n",
              "     width=\"24px\">\n",
              "    <g>\n",
              "        <path d=\"M19 3H5c-1.1 0-2 .9-2 2v14c0 1.1.9 2 2 2h14c1.1 0 2-.9 2-2V5c0-1.1-.9-2-2-2zM9 17H7v-7h2v7zm4 0h-2V7h2v10zm4 0h-2v-4h2v4z\"/>\n",
              "    </g>\n",
              "</svg>\n",
              "  </button>\n",
              "\n",
              "<style>\n",
              "  .colab-df-quickchart {\n",
              "      --bg-color: #E8F0FE;\n",
              "      --fill-color: #1967D2;\n",
              "      --hover-bg-color: #E2EBFA;\n",
              "      --hover-fill-color: #174EA6;\n",
              "      --disabled-fill-color: #AAA;\n",
              "      --disabled-bg-color: #DDD;\n",
              "  }\n",
              "\n",
              "  [theme=dark] .colab-df-quickchart {\n",
              "      --bg-color: #3B4455;\n",
              "      --fill-color: #D2E3FC;\n",
              "      --hover-bg-color: #434B5C;\n",
              "      --hover-fill-color: #FFFFFF;\n",
              "      --disabled-bg-color: #3B4455;\n",
              "      --disabled-fill-color: #666;\n",
              "  }\n",
              "\n",
              "  .colab-df-quickchart {\n",
              "    background-color: var(--bg-color);\n",
              "    border: none;\n",
              "    border-radius: 50%;\n",
              "    cursor: pointer;\n",
              "    display: none;\n",
              "    fill: var(--fill-color);\n",
              "    height: 32px;\n",
              "    padding: 0;\n",
              "    width: 32px;\n",
              "  }\n",
              "\n",
              "  .colab-df-quickchart:hover {\n",
              "    background-color: var(--hover-bg-color);\n",
              "    box-shadow: 0 1px 2px rgba(60, 64, 67, 0.3), 0 1px 3px 1px rgba(60, 64, 67, 0.15);\n",
              "    fill: var(--button-hover-fill-color);\n",
              "  }\n",
              "\n",
              "  .colab-df-quickchart-complete:disabled,\n",
              "  .colab-df-quickchart-complete:disabled:hover {\n",
              "    background-color: var(--disabled-bg-color);\n",
              "    fill: var(--disabled-fill-color);\n",
              "    box-shadow: none;\n",
              "  }\n",
              "\n",
              "  .colab-df-spinner {\n",
              "    border: 2px solid var(--fill-color);\n",
              "    border-color: transparent;\n",
              "    border-bottom-color: var(--fill-color);\n",
              "    animation:\n",
              "      spin 1s steps(1) infinite;\n",
              "  }\n",
              "\n",
              "  @keyframes spin {\n",
              "    0% {\n",
              "      border-color: transparent;\n",
              "      border-bottom-color: var(--fill-color);\n",
              "      border-left-color: var(--fill-color);\n",
              "    }\n",
              "    20% {\n",
              "      border-color: transparent;\n",
              "      border-left-color: var(--fill-color);\n",
              "      border-top-color: var(--fill-color);\n",
              "    }\n",
              "    30% {\n",
              "      border-color: transparent;\n",
              "      border-left-color: var(--fill-color);\n",
              "      border-top-color: var(--fill-color);\n",
              "      border-right-color: var(--fill-color);\n",
              "    }\n",
              "    40% {\n",
              "      border-color: transparent;\n",
              "      border-right-color: var(--fill-color);\n",
              "      border-top-color: var(--fill-color);\n",
              "    }\n",
              "    60% {\n",
              "      border-color: transparent;\n",
              "      border-right-color: var(--fill-color);\n",
              "    }\n",
              "    80% {\n",
              "      border-color: transparent;\n",
              "      border-right-color: var(--fill-color);\n",
              "      border-bottom-color: var(--fill-color);\n",
              "    }\n",
              "    90% {\n",
              "      border-color: transparent;\n",
              "      border-bottom-color: var(--fill-color);\n",
              "    }\n",
              "  }\n",
              "</style>\n",
              "\n",
              "  <script>\n",
              "    async function quickchart(key) {\n",
              "      const quickchartButtonEl =\n",
              "        document.querySelector('#' + key + ' button');\n",
              "      quickchartButtonEl.disabled = true;  // To prevent multiple clicks.\n",
              "      quickchartButtonEl.classList.add('colab-df-spinner');\n",
              "      try {\n",
              "        const charts = await google.colab.kernel.invokeFunction(\n",
              "            'suggestCharts', [key], {});\n",
              "      } catch (error) {\n",
              "        console.error('Error during call to suggestCharts:', error);\n",
              "      }\n",
              "      quickchartButtonEl.classList.remove('colab-df-spinner');\n",
              "      quickchartButtonEl.classList.add('colab-df-quickchart-complete');\n",
              "    }\n",
              "    (() => {\n",
              "      let quickchartButtonEl =\n",
              "        document.querySelector('#df-afbf372f-b358-4a28-a3e2-76350ce6c89e button');\n",
              "      quickchartButtonEl.style.display =\n",
              "        google.colab.kernel.accessAllowed ? 'block' : 'none';\n",
              "    })();\n",
              "  </script>\n",
              "</div>\n",
              "\n",
              "    </div>\n",
              "  </div>\n"
            ],
            "application/vnd.google.colaboratory.intrinsic+json": {
              "type": "dataframe",
              "variable_name": "data2"
            }
          },
          "metadata": {},
          "execution_count": 3
        }
      ],
      "source": [
        "data2.head()"
      ]
    },
    {
      "cell_type": "code",
      "execution_count": null,
      "metadata": {
        "id": "N8_rq-n7iqXF"
      },
      "outputs": [],
      "source": [
        "data_train = np.array(data2.T)\n",
        "data_test = np.array(data1.T)\n",
        "\n",
        "\n"
      ]
    },
    {
      "cell_type": "code",
      "execution_count": null,
      "metadata": {
        "colab": {
          "base_uri": "https://localhost:8080/"
        },
        "id": "yR9DRIsZibAO",
        "outputId": "3b3a08f8-c18e-469a-df3c-2399d0e0cddf"
      },
      "outputs": [
        {
          "output_type": "execute_result",
          "data": {
            "text/plain": [
              "array([[5, 0, 4, ..., 5, 6, 8],\n",
              "       [0, 0, 0, ..., 0, 0, 0],\n",
              "       [0, 0, 0, ..., 0, 0, 0],\n",
              "       ...,\n",
              "       [0, 0, 0, ..., 0, 0, 0],\n",
              "       [0, 0, 0, ..., 0, 0, 0],\n",
              "       [0, 0, 0, ..., 0, 0, 0]])"
            ]
          },
          "metadata": {},
          "execution_count": 5
        }
      ],
      "source": [
        "data_train"
      ]
    },
    {
      "cell_type": "code",
      "execution_count": null,
      "metadata": {
        "id": "geocPNBtNiIB"
      },
      "outputs": [],
      "source": []
    },
    {
      "cell_type": "code",
      "execution_count": null,
      "metadata": {
        "id": "-1x3-h6FmgH_"
      },
      "outputs": [],
      "source": [
        "def split_features_labels(data):\n",
        "  # Labels are in the first column\n",
        "    y = data[:1:,::]\n",
        "    # Features are all the other columns\n",
        "    x = data[1::,::]\n",
        "    return x, y\n",
        "\n",
        "\n",
        "X_train, y_train = split_features_labels(data_train)\n",
        "X_test, y_test = split_features_labels(data_test)"
      ]
    },
    {
      "cell_type": "code",
      "execution_count": null,
      "metadata": {
        "id": "FOVzTl1Dmhnm"
      },
      "outputs": [],
      "source": [
        "\n"
      ]
    },
    {
      "cell_type": "code",
      "execution_count": null,
      "metadata": {
        "id": "XZhE_EXBpZsn"
      },
      "outputs": [],
      "source": []
    },
    {
      "cell_type": "code",
      "execution_count": null,
      "metadata": {
        "id": "sBz7pWDukPHD"
      },
      "outputs": [],
      "source": [
        "\n"
      ]
    },
    {
      "cell_type": "code",
      "execution_count": null,
      "metadata": {
        "id": "3bTKOhBPlXJf"
      },
      "outputs": [],
      "source": []
    },
    {
      "cell_type": "code",
      "execution_count": null,
      "metadata": {
        "id": "kbBDyGgppVxB"
      },
      "outputs": [],
      "source": []
    },
    {
      "cell_type": "code",
      "execution_count": null,
      "metadata": {
        "id": "xc6dMTPgpYMI"
      },
      "outputs": [],
      "source": []
    },
    {
      "cell_type": "code",
      "execution_count": null,
      "metadata": {
        "id": "jLnLw4vMiCx4"
      },
      "outputs": [],
      "source": []
    },
    {
      "cell_type": "code",
      "execution_count": null,
      "metadata": {
        "id": "wW2Y95qiiWhx"
      },
      "outputs": [],
      "source": []
    },
    {
      "cell_type": "code",
      "execution_count": null,
      "metadata": {
        "id": "50HH32ijhoH2"
      },
      "outputs": [],
      "source": [
        "\n",
        "X_train= X_train/ 255.0\n"
      ]
    },
    {
      "cell_type": "code",
      "execution_count": null,
      "metadata": {
        "colab": {
          "base_uri": "https://localhost:8080/"
        },
        "id": "m8PiRwYiiqKB",
        "outputId": "73c493b8-1f02-419f-e362-52451814e04c"
      },
      "outputs": [
        {
          "output_type": "execute_result",
          "data": {
            "text/plain": [
              "(784, 60000)"
            ]
          },
          "metadata": {},
          "execution_count": 8
        }
      ],
      "source": [
        "X_train.shape"
      ]
    },
    {
      "cell_type": "code",
      "execution_count": null,
      "metadata": {
        "id": "DmNaEaVup-MV"
      },
      "outputs": [],
      "source": [
        "import numpy as np\n",
        "\n",
        "\n",
        "def initialize_network(input_size, hidden_size1, hidden_size2, output_size):\n",
        "    # Weights are initialized with small random values\n",
        "    w1 = np.random.randn( input_size, hidden_size1) * np.sqrt(2 / input_size)\n",
        "    w2 = np.random.randn( hidden_size1, hidden_size2)* np.sqrt(2 / hidden_size1)\n",
        "    w3 = np.random.randn( hidden_size2, output_size)* np.sqrt(2 / hidden_size2)\n",
        "    # Biases are initialized to zero\n",
        "    b1 = np.zeros((hidden_size1,1))\n",
        "    b2 = np.zeros((hidden_size2,1))\n",
        "    b3 = np.zeros((output_size,1))\n",
        "\n",
        "    return w1,b1,w2,b2,w3,b3"
      ]
    },
    {
      "cell_type": "code",
      "execution_count": null,
      "metadata": {
        "id": "0blao77PaVBC"
      },
      "outputs": [],
      "source": [
        "w1,b1,w2,b2,w3,b3 = initialize_network(784,16,16,10)"
      ]
    },
    {
      "cell_type": "code",
      "execution_count": null,
      "metadata": {
        "id": "GR72If7oaaDt",
        "colab": {
          "base_uri": "https://localhost:8080/"
        },
        "outputId": "90846318-84a6-4b88-e97c-e0ee78717d8d"
      },
      "outputs": [
        {
          "output_type": "execute_result",
          "data": {
            "text/plain": [
              "(16, 10)"
            ]
          },
          "metadata": {},
          "execution_count": 19
        }
      ],
      "source": [
        "w3.shape"
      ]
    },
    {
      "cell_type": "code",
      "execution_count": null,
      "metadata": {
        "id": "457i52ilongS",
        "colab": {
          "base_uri": "https://localhost:8080/"
        },
        "outputId": "f41f244a-6c14-46e6-c185-55243d4caefb"
      },
      "outputs": [
        {
          "output_type": "execute_result",
          "data": {
            "text/plain": [
              "-0.7875319095318839"
            ]
          },
          "metadata": {},
          "execution_count": 18
        }
      ],
      "source": [
        "np.min(w3)"
      ]
    },
    {
      "cell_type": "code",
      "execution_count": null,
      "metadata": {
        "id": "Lzt5t6tG28m9",
        "colab": {
          "base_uri": "https://localhost:8080/"
        },
        "outputId": "4686301b-3212-4932-f89e-9cbc77a9d250"
      },
      "outputs": [
        {
          "output_type": "execute_result",
          "data": {
            "text/plain": [
              "(1, 60000)"
            ]
          },
          "metadata": {},
          "execution_count": 23
        }
      ],
      "source": [
        "y_train.shape"
      ]
    },
    {
      "cell_type": "code",
      "execution_count": null,
      "metadata": {
        "id": "2auCcigyrX1Y"
      },
      "outputs": [],
      "source": []
    },
    {
      "cell_type": "code",
      "execution_count": null,
      "metadata": {
        "id": "b_h8TVvvxZf-"
      },
      "outputs": [],
      "source": [
        "\n",
        "def sigmoid(x):\n",
        "    return 1 / (1 + np.exp(-x))\n",
        "\n",
        "\n",
        "def sigmoid_derivative(x):\n",
        "    return sigmoid(x) * (1 - sigmoid(x))\n",
        "\n",
        "def relu(x):\n",
        "    return np.maximum(0, x)\n",
        "\n",
        "def relu_derivative(x):\n",
        "    return (x > 0).astype(float)\n",
        "\n",
        "def one_hot(Y):\n",
        "    one_hot_Y = np.zeros((Y.size, Y.max() + 1))\n",
        "    one_hot_Y[np.arange(Y.size), Y] = 1\n",
        "    one_hot_Y = one_hot_Y.T\n",
        "    return one_hot_Y\n"
      ]
    },
    {
      "cell_type": "code",
      "execution_count": null,
      "metadata": {
        "id": "AhU3AUhXxbox"
      },
      "outputs": [],
      "source": [
        "def forward_pass(X ,w1 ,b1 ,w2 ,b2 ,w3 ,b3 ):\n",
        "    Z1 = w1.T.dot(X) + b1\n",
        "    A1 = relu(Z1)\n",
        "\n",
        "\n",
        "    #print(\"Z1\",Z1.shape, \"Range:\", np.min(Z1), np.max(Z1))\n",
        "    #print(\"A1:\", A1.shape, \"Range:\", np.min(A1), np.max(A1), \"\\n\")\n",
        "    Z2 = w2.T.dot(A1) + b2\n",
        "    A2 = relu(Z2)\n",
        "\n",
        "    #print(\"Z2\",Z2.shape, \"Range:\", np.min(Z2), np.max(Z2))\n",
        "    #print(\"A2:\", A2.shape, \"Range:\", np.min(A2), np.max(A2),\"\\n\")\n",
        "\n",
        "    Z3 = w3.T.dot(A2) + b3\n",
        "    O = sigmoid(Z3)\n",
        "\n",
        "\n",
        "\n",
        "    #print(\"Z3\",Z3.shape, \"Range:\", np.min(Z3), np.max(Z3))\n",
        "    #print(\"O:\", O.shape, \"Range:\", np.min(O), np.max(O),\"Sum:\", np.sum(O),\"\\n\")\n",
        "\n",
        "    return  Z1, Z2, Z3, A1, A2, O"
      ]
    },
    {
      "cell_type": "code",
      "execution_count": null,
      "metadata": {
        "id": "Uyd4LacZeuCW"
      },
      "outputs": [],
      "source": [
        "#forward_pass(X1,w1,b1,w2,b2,w3,b3)"
      ]
    },
    {
      "cell_type": "code",
      "execution_count": null,
      "metadata": {
        "id": "fK-E34iOgOnZ"
      },
      "outputs": [],
      "source": []
    },
    {
      "cell_type": "code",
      "execution_count": null,
      "metadata": {
        "id": "EhJnRW3w-agj"
      },
      "outputs": [],
      "source": []
    },
    {
      "cell_type": "code",
      "execution_count": null,
      "metadata": {
        "id": "Avxzw60OyLzh"
      },
      "outputs": [],
      "source": [
        "\n",
        "def backprop(X, y ,w1,b1,w2,b2,w3,b3, A1, A2, O, Z1, Z2, Z3, learning_rate):\n",
        "\n",
        "    y = one_hot(y)\n",
        "    k = y.shape[1]\n",
        "    #Loss or Cost Function\n",
        "    C = (1/k)* (O - y)**2\n",
        "    Cd =  (2/k)* (O - y)\n",
        "\n",
        "    #print(\"C_d\", np.min(C_d), np.max(C_d))\n",
        "\n",
        "\n",
        "    # Output layer error\n",
        "    dz3 = Cd * sigmoid_derivative(Z3)\n",
        "    dw3 =  (A2.dot(dz3.T))\n",
        "    db3 = np.sum(dz3)\n",
        "\n",
        "\n",
        "    # Error for Hidden Layer 2\n",
        "    dz2 = np.dot(w3,dz3) * relu_derivative(Z2)\n",
        "    dw2 =  (A1.dot(dz2.T))\n",
        "    db2 =  np.sum(dz2)\n",
        "\n",
        "\n",
        "    # Error for Hidden Layer 1\n",
        "    dz1 = np.dot(w2, dz2) * relu_derivative(Z1)\n",
        "    dw1 =  X.dot(dz1.T)\n",
        "    db1 =  np.sum(dz1)\n",
        "\n",
        "    w3 = w3 - learning_rate * dw3\n",
        "    b3 = b3 - learning_rate * db3\n",
        "\n",
        "    w2 = w2 - learning_rate * dw2\n",
        "    b2 = b2 - learning_rate * db2\n",
        "\n",
        "    w1 = w1 - learning_rate * dw1\n",
        "    b1 = b1 - learning_rate * db1\n",
        "\n",
        "    return w1, b1, w2, b2, w3, b3\n",
        "\n",
        "\n",
        "\n"
      ]
    },
    {
      "cell_type": "code",
      "execution_count": null,
      "metadata": {
        "id": "bC8z-hRQc0CD"
      },
      "outputs": [],
      "source": [
        "\n",
        "\n"
      ]
    },
    {
      "cell_type": "code",
      "execution_count": null,
      "metadata": {
        "id": "SxYcmhLPmjmw"
      },
      "outputs": [],
      "source": []
    },
    {
      "cell_type": "code",
      "execution_count": null,
      "metadata": {
        "id": "f9iGs7AB9jDp"
      },
      "outputs": [],
      "source": [
        "def get_predictions(Output):\n",
        "    return np.argmax(Output, 0)\n",
        "\n",
        "def get_accuracy(predictions, Y):\n",
        "    #print(predictions, Y)\n",
        "    return np.sum(predictions == Y) / Y.size"
      ]
    },
    {
      "cell_type": "code",
      "execution_count": null,
      "metadata": {
        "id": "Ve_AdiQKucd4"
      },
      "outputs": [],
      "source": [
        "def train(X, y, epochs, learning_rate):\n",
        "    w1, b1, w2, b2, w3, b3 = initialize_network(input_size, hidden_size1, hidden_size2, output_size)\n",
        "    for i in range(epochs):\n",
        "        Z1, Z2, Z3,A1, A2, O = forward_pass(X ,w1 ,b1 ,w2 ,b2 ,w3 ,b3 )\n",
        "        w1, b1, w2, b2, w3, b3 = backprop(X, y,w1,b1,w2,b2,w3,b3, A1, A2, O, Z1, Z2, Z3, learning_rate)\n",
        "\n",
        "\n",
        "        if i % 10 == 0:\n",
        "            print(\"Iteration: \", i)\n",
        "            predictions = get_predictions(O)\n",
        "            print(\"accuracy: \", get_accuracy(predictions, y))\n",
        "    return w1 ,b1 ,w2 ,b2 ,w3 ,b3"
      ]
    },
    {
      "cell_type": "code",
      "execution_count": null,
      "metadata": {
        "colab": {
          "base_uri": "https://localhost:8080/"
        },
        "id": "m5qKfM8MwTH_",
        "outputId": "064ddd04-419c-4a8b-ffdd-4ba2b82305d7"
      },
      "outputs": [
        {
          "output_type": "stream",
          "name": "stdout",
          "text": [
            "Iteration:  0\n",
            "accuracy:  0.0753\n",
            "Iteration:  10\n",
            "accuracy:  0.1112\n",
            "Iteration:  20\n",
            "accuracy:  0.1586\n",
            "Iteration:  30\n",
            "accuracy:  0.1899\n",
            "Iteration:  40\n",
            "accuracy:  0.22693333333333332\n",
            "Iteration:  50\n",
            "accuracy:  0.27558333333333335\n",
            "Iteration:  60\n",
            "accuracy:  0.31693333333333334\n",
            "Iteration:  70\n",
            "accuracy:  0.3656\n",
            "Iteration:  80\n",
            "accuracy:  0.41651666666666665\n",
            "Iteration:  90\n",
            "accuracy:  0.45945\n",
            "Iteration:  100\n",
            "accuracy:  0.48463333333333336\n",
            "Iteration:  110\n",
            "accuracy:  0.49721666666666664\n",
            "Iteration:  120\n",
            "accuracy:  0.5046666666666667\n",
            "Iteration:  130\n",
            "accuracy:  0.5105166666666666\n",
            "Iteration:  140\n",
            "accuracy:  0.5167166666666667\n",
            "Iteration:  150\n",
            "accuracy:  0.5320333333333334\n",
            "Iteration:  160\n",
            "accuracy:  0.5587833333333333\n",
            "Iteration:  170\n",
            "accuracy:  0.58445\n",
            "Iteration:  180\n",
            "accuracy:  0.60425\n",
            "Iteration:  190\n",
            "accuracy:  0.6207333333333334\n",
            "Iteration:  200\n",
            "accuracy:  0.6350833333333333\n",
            "Iteration:  210\n",
            "accuracy:  0.6466333333333333\n",
            "Iteration:  220\n",
            "accuracy:  0.6566666666666666\n",
            "Iteration:  230\n",
            "accuracy:  0.6651666666666667\n",
            "Iteration:  240\n",
            "accuracy:  0.6727333333333333\n",
            "Iteration:  250\n",
            "accuracy:  0.68\n",
            "Iteration:  260\n",
            "accuracy:  0.6866833333333333\n",
            "Iteration:  270\n",
            "accuracy:  0.6924333333333333\n",
            "Iteration:  280\n",
            "accuracy:  0.69865\n",
            "Iteration:  290\n",
            "accuracy:  0.70425\n",
            "Iteration:  300\n",
            "accuracy:  0.7096\n",
            "Iteration:  310\n",
            "accuracy:  0.7147166666666667\n",
            "Iteration:  320\n",
            "accuracy:  0.7202166666666666\n",
            "Iteration:  330\n",
            "accuracy:  0.7252666666666666\n",
            "Iteration:  340\n",
            "accuracy:  0.7305\n",
            "Iteration:  350\n",
            "accuracy:  0.7360833333333333\n",
            "Iteration:  360\n",
            "accuracy:  0.74155\n",
            "Iteration:  370\n",
            "accuracy:  0.7463333333333333\n",
            "Iteration:  380\n",
            "accuracy:  0.7506\n",
            "Iteration:  390\n",
            "accuracy:  0.7550166666666667\n",
            "Iteration:  400\n",
            "accuracy:  0.7592333333333333\n",
            "Iteration:  410\n",
            "accuracy:  0.7627833333333334\n",
            "Iteration:  420\n",
            "accuracy:  0.7657333333333334\n",
            "Iteration:  430\n",
            "accuracy:  0.7685666666666666\n",
            "Iteration:  440\n",
            "accuracy:  0.7715166666666666\n",
            "Iteration:  450\n",
            "accuracy:  0.7742\n",
            "Iteration:  460\n",
            "accuracy:  0.7760666666666667\n",
            "Iteration:  470\n",
            "accuracy:  0.7781666666666667\n",
            "Iteration:  480\n",
            "accuracy:  0.7800166666666667\n",
            "Iteration:  490\n",
            "accuracy:  0.78155\n",
            "Iteration:  500\n",
            "accuracy:  0.783\n",
            "Iteration:  510\n",
            "accuracy:  0.7842166666666667\n",
            "Iteration:  520\n",
            "accuracy:  0.7856833333333333\n",
            "Iteration:  530\n",
            "accuracy:  0.78715\n",
            "Iteration:  540\n",
            "accuracy:  0.7883333333333333\n",
            "Iteration:  550\n",
            "accuracy:  0.7900333333333334\n",
            "Iteration:  560\n",
            "accuracy:  0.7913833333333333\n",
            "Iteration:  570\n",
            "accuracy:  0.7924333333333333\n",
            "Iteration:  580\n",
            "accuracy:  0.7932666666666667\n",
            "Iteration:  590\n",
            "accuracy:  0.7941166666666667\n",
            "Iteration:  600\n",
            "accuracy:  0.7949333333333334\n",
            "Iteration:  610\n",
            "accuracy:  0.7957\n",
            "Iteration:  620\n",
            "accuracy:  0.7967166666666666\n",
            "Iteration:  630\n",
            "accuracy:  0.7975166666666667\n",
            "Iteration:  640\n",
            "accuracy:  0.7983666666666667\n",
            "Iteration:  650\n",
            "accuracy:  0.7993\n",
            "Iteration:  660\n",
            "accuracy:  0.8002333333333334\n",
            "Iteration:  670\n",
            "accuracy:  0.80125\n",
            "Iteration:  680\n",
            "accuracy:  0.8021833333333334\n",
            "Iteration:  690\n",
            "accuracy:  0.8030666666666667\n",
            "Iteration:  700\n",
            "accuracy:  0.8039833333333334\n",
            "Iteration:  710\n",
            "accuracy:  0.80475\n",
            "Iteration:  720\n",
            "accuracy:  0.8056\n",
            "Iteration:  730\n",
            "accuracy:  0.8064666666666667\n",
            "Iteration:  740\n",
            "accuracy:  0.8072333333333334\n"
          ]
        }
      ],
      "source": [
        "input_size = 784  # for MNIST data, each image is 28x28 pixels\n",
        "hidden_size1 = 16\n",
        "hidden_size2 = 16\n",
        "output_size = 10  # assuming a classification task with 10 classes\n",
        "epochs = 750\n",
        "# Initialize the network\n",
        "initialize_network(input_size, hidden_size1, hidden_size2, output_size)\n",
        "\n",
        "# Assuming X and y are already loaded and preprocessed\n",
        "w1 ,b1 ,w2 ,b2 ,w3 ,b3 = train(X_train, y_train, epochs, learning_rate=0.1)\n"
      ]
    },
    {
      "cell_type": "code",
      "execution_count": null,
      "metadata": {
        "id": "hYPUUFyZ9EPu"
      },
      "outputs": [],
      "source": [
        "def make_predictions(X ,w1 ,b1 ,w2 ,b2 ,w3 ,b3 ):\n",
        "    A1, A2, O, Z1, Z2, Z3 = forward_pass(X ,w1 ,b1 ,w2 ,b2 ,w3 ,b3 )\n",
        "    predictions = get_predictions(O)\n",
        "    return predictions\n",
        "\n",
        "\n",
        "def test_prediction(index, w1 ,b1 ,w2 ,b2 ,w3 ,b3 ):\n",
        "    current_image = X_train[:, index, None]\n",
        "    prediction = make_predictions(X_train[:, index, None], w1 ,b1 ,w2 ,b2 ,w3 ,b3 )\n",
        "    label = y_train[:,index]\n",
        "    print(\"Prediction: \", prediction)\n",
        "    print(\"Label: \", label)\n",
        "\n",
        "    current_image = current_image.reshape((28, 28)) * 255\n",
        "    plt.gray()\n",
        "    plt.imshow(current_image, interpolation='nearest')\n",
        "    plt.show()"
      ]
    },
    {
      "cell_type": "code",
      "execution_count": null,
      "metadata": {
        "id": "4VHRbCvYQspL",
        "colab": {
          "base_uri": "https://localhost:8080/",
          "height": 1000
        },
        "outputId": "26fe98c4-8ce5-40c5-ccd0-c85253a45aa8"
      },
      "outputs": [
        {
          "output_type": "stream",
          "name": "stdout",
          "text": [
            "Prediction:  [0]\n",
            "Label:  [0]\n"
          ]
        },
        {
          "output_type": "display_data",
          "data": {
            "text/plain": [
              "<Figure size 640x480 with 1 Axes>"
            ],
            "image/png": "[encoded data removed]"
          },
          "metadata": {}
        },
        {
          "output_type": "stream",
          "name": "stdout",
          "text": [
            "Prediction:  [0]\n",
            "Label:  [0]\n"
          ]
        },
        {
          "output_type": "display_data",
          "data": {
            "text/plain": [
              "<Figure size 640x480 with 1 Axes>"
            ],
            "image/png": "[encoded data removed]"
          },
          "metadata": {}
        },
        {
          "output_type": "stream",
          "name": "stdout",
          "text": [
            "Prediction:  [1]\n",
            "Label:  [7]\n"
          ]
        },
        {
          "output_type": "display_data",
          "data": {
            "text/plain": [
              "<Figure size 640x480 with 1 Axes>"
            ],
            "image/png": "[encoded data removed]"
          },
          "metadata": {}
        },
        {
          "output_type": "stream",
          "name": "stdout",
          "text": [
            "Prediction:  [5]\n",
            "Label:  [5]\n"
          ]
        },
        {
          "output_type": "display_data",
          "data": {
            "text/plain": [
              "<Figure size 640x480 with 1 Axes>"
            ],
            "image/png": "[encoded data removed]"
          },
          "metadata": {}
        }
      ],
      "source": [
        "test_prediction(69, w1 ,b1 ,w2 ,b2 ,w3 ,b3 )\n",
        "test_prediction(81,  w1 ,b1 ,w2 ,b2 ,w3 ,b3 )\n",
        "test_prediction(212, w1 ,b1 ,w2 ,b2 ,w3 ,b3 )\n",
        "test_prediction(335, w1 ,b1 ,w2 ,b2 ,w3 ,b3 )"
      ]
    },
    {
      "cell_type": "code",
      "execution_count": null,
      "metadata": {
        "id": "5zz1hdRxQ4S6",
        "colab": {
          "base_uri": "https://localhost:8080/"
        },
        "outputId": "cfaa6811-64b6-402e-e4b8-17efda5a3602"
      },
      "outputs": [
        {
          "output_type": "stream",
          "name": "stderr",
          "text": [
            "<ipython-input-24-9015e0b89a55>:2: RuntimeWarning: overflow encountered in exp\n",
            "  return 1 / (1 + np.exp(-x))\n"
          ]
        },
        {
          "output_type": "execute_result",
          "data": {
            "text/plain": [
              "0.8009"
            ]
          },
          "metadata": {},
          "execution_count": 33
        }
      ],
      "source": [
        "test_predictions = make_predictions(X_test, w1 ,b1 ,w2 ,b2 ,w3 ,b3)\n",
        "get_accuracy(test_predictions, y_test)"
      ]
    },
    {
      "cell_type": "code",
      "execution_count": null,
      "metadata": {
        "id": "jwcugXQBl-47"
      },
      "outputs": [],
      "source": [
        "\n"
      ]
    },
    {
      "cell_type": "code",
      "execution_count": null,
      "metadata": {
        "id": "47zVryFD4eMf"
      },
      "outputs": [],
      "source": []
    }
  ],
  "metadata": {
    "colab": {
      "provenance": [],
      "authorship_tag": "ABX9TyODTsIa+Wo4R386wukQ1ROa",
      "include_colab_link": true
    },
    "kernelspec": {
      "display_name": "Python 3",
      "name": "python3"
    },
    "language_info": {
      "name": "python"
    }
  },
  "nbformat": 4,
  "nbformat_minor": 0
}