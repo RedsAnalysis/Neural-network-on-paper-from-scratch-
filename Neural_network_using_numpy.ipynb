{
  "nbformat": 4,
  "nbformat_minor": 0,
  "metadata": {
    "colab": {
      "provenance": [],
      "authorship_tag": "ABX9TyPMWVwyYCuKR7qcywPfOjve",
      "include_colab_link": true
    },
    "kernelspec": {
      "name": "python3",
      "display_name": "Python 3"
    },
    "language_info": {
      "name": "python"
    }
  },
  "cells": [
    {
      "cell_type": "markdown",
      "metadata": {
        "id": "view-in-github",
        "colab_type": "text"
      },
      "source": [
        "<a href=\"https://colab.research.google.com/github/RedsAnalysis/Neural-network-on-paper-from-scratch-/blob/main/Neural_network_using_numpy.ipynb\" target=\"_parent\"><img src=\"https://colab.research.google.com/assets/colab-badge.svg\" alt=\"Open In Colab\"/></a>"
      ]
    },
    {
      "cell_type": "code",
      "execution_count": 394,
      "metadata": {
        "id": "7_ugSHYQfpAH"
      },
      "outputs": [],
      "source": [
        "import numpy as np\n",
        "import pandas as pd\n",
        "from matplotlib import pyplot as plt"
      ]
    },
    {
      "cell_type": "code",
      "source": [
        "data1 = pd.read_csv(\"mnist_test.csv\")\n",
        "data2 = pd.read_csv(\"mnist_train.csv\")\n",
        "df = pd.concat([data1, data2], axis=0)"
      ],
      "metadata": {
        "id": "8FhwXfMlf0ty"
      },
      "execution_count": 395,
      "outputs": []
    },
    {
      "cell_type": "code",
      "source": [],
      "metadata": {
        "id": "GA2Cnv65idMs"
      },
      "execution_count": 395,
      "outputs": []
    },
    {
      "cell_type": "code",
      "source": [
        "train, val , test = np.split(df.sample(frac=1), [int(0.7*len(df)), int(0.85*len(df))])"
      ],
      "metadata": {
        "id": "N8_rq-n7iqXF"
      },
      "execution_count": 396,
      "outputs": []
    },
    {
      "cell_type": "code",
      "source": [],
      "metadata": {
        "id": "LwKwvWUukZUn"
      },
      "execution_count": 396,
      "outputs": []
    },
    {
      "cell_type": "code",
      "source": [
        "data_train = np.array(train)\n",
        "data_val = np.array(val)\n",
        "data_test = np.array(test)"
      ],
      "metadata": {
        "id": "T1Ihf9ShmOsW"
      },
      "execution_count": 397,
      "outputs": []
    },
    {
      "cell_type": "code",
      "source": [],
      "metadata": {
        "id": "nOp4dIZTnUBM"
      },
      "execution_count": 397,
      "outputs": []
    },
    {
      "cell_type": "code",
      "source": [
        "def split_features_labels(data):\n",
        "  # Labels are in the first column\n",
        "    y = data[0::,0:1]\n",
        "    # Features are all the other columns\n",
        "    x = data[0::,1::]\n",
        "    return x, y"
      ],
      "metadata": {
        "id": "-1x3-h6FmgH_"
      },
      "execution_count": 398,
      "outputs": []
    },
    {
      "cell_type": "code",
      "source": [
        "X_train, y_train = split_features_labels(data_train)\n",
        "X_val, y_val = split_features_labels(data_val)\n",
        "X_test, y_test = split_features_labels(data_test)"
      ],
      "metadata": {
        "id": "FOVzTl1Dmhnm"
      },
      "execution_count": 399,
      "outputs": []
    },
    {
      "cell_type": "code",
      "source": [
        "X_train.shape"
      ],
      "metadata": {
        "colab": {
          "base_uri": "https://localhost:8080/"
        },
        "id": "kbBDyGgppVxB",
        "outputId": "05d07617-2457-446c-aa5a-0bd96cd9d0e2"
      },
      "execution_count": 400,
      "outputs": [
        {
          "output_type": "execute_result",
          "data": {
            "text/plain": [
              "(49000, 784)"
            ]
          },
          "metadata": {},
          "execution_count": 400
        }
      ]
    },
    {
      "cell_type": "code",
      "source": [
        "X = X_train[:1]\n",
        "X.shape\n",
        "y = y_train[:1]"
      ],
      "metadata": {
        "id": "xc6dMTPgpYMI"
      },
      "execution_count": 401,
      "outputs": []
    },
    {
      "cell_type": "code",
      "source": [
        "X1 =X\n",
        "y1=y"
      ],
      "metadata": {
        "id": "50HH32ijhoH2"
      },
      "execution_count": 402,
      "outputs": []
    },
    {
      "cell_type": "code",
      "source": [
        "y1 = y1.T"
      ],
      "metadata": {
        "id": "oI8GyOS3j7PZ"
      },
      "execution_count": 403,
      "outputs": []
    },
    {
      "cell_type": "code",
      "source": [
        "y1.shape"
      ],
      "metadata": {
        "colab": {
          "base_uri": "https://localhost:8080/"
        },
        "id": "Nj-faBECyCV7",
        "outputId": "a4bce607-f944-4a2d-b420-a9eef9732ea7"
      },
      "execution_count": 404,
      "outputs": [
        {
          "output_type": "execute_result",
          "data": {
            "text/plain": [
              "(1, 1)"
            ]
          },
          "metadata": {},
          "execution_count": 404
        }
      ]
    },
    {
      "cell_type": "code",
      "source": [],
      "metadata": {
        "id": "2cvGM9xKiYmy"
      },
      "execution_count": 404,
      "outputs": []
    },
    {
      "cell_type": "code",
      "source": [],
      "metadata": {
        "id": "WwdPh28diqKR"
      },
      "execution_count": 404,
      "outputs": []
    },
    {
      "cell_type": "code",
      "source": [
        "X1 = X.T"
      ],
      "metadata": {
        "id": "5yezBaHC_Gud"
      },
      "execution_count": 405,
      "outputs": []
    },
    {
      "cell_type": "code",
      "source": [
        "X1.shape"
      ],
      "metadata": {
        "colab": {
          "base_uri": "https://localhost:8080/"
        },
        "id": "JGmm5QRefku5",
        "outputId": "05c2833b-80dc-4c95-ec35-7b5266986da8"
      },
      "execution_count": 406,
      "outputs": [
        {
          "output_type": "execute_result",
          "data": {
            "text/plain": [
              "(784, 1)"
            ]
          },
          "metadata": {},
          "execution_count": 406
        }
      ]
    },
    {
      "cell_type": "code",
      "source": [
        "import numpy as np\n",
        "\n",
        "# Global variables for weights and biases\n",
        "w1, w2, w3, b1, b2, b3 = None, None, None, None, None, None\n",
        "\n",
        "def initialize_network(input_size, hidden_size1, hidden_size2, output_size):\n",
        "    global w1, w2, w3, b1, b2, b3\n",
        "    # Weights are initialized with small random values\n",
        "    w1 = np.random.randn(hidden_size1, input_size) * 0.01\n",
        "    w2 = np.random.randn(hidden_size2, hidden_size1) * 0.01\n",
        "    w3 = np.random.randn(output_size, hidden_size2) * 0.01\n",
        "    # Biases are initialized to zeros\n",
        "    b1 = np.zeros((hidden_size1,1))\n",
        "    b2 = np.zeros((hidden_size2,1))\n",
        "    b3 = np.zeros((output_size,1))\n",
        "\n"
      ],
      "metadata": {
        "id": "DmNaEaVup-MV"
      },
      "execution_count": 407,
      "outputs": []
    },
    {
      "cell_type": "code",
      "source": [
        "initialize_network(784, 16,16,10)"
      ],
      "metadata": {
        "id": "0blao77PaVBC"
      },
      "execution_count": 408,
      "outputs": []
    },
    {
      "cell_type": "code",
      "source": [
        "w1.shape"
      ],
      "metadata": {
        "colab": {
          "base_uri": "https://localhost:8080/"
        },
        "id": "GR72If7oaaDt",
        "outputId": "5e5ade8c-6888-4a13-e3ac-31faa3e58de6"
      },
      "execution_count": 409,
      "outputs": [
        {
          "output_type": "execute_result",
          "data": {
            "text/plain": [
              "(16, 784)"
            ]
          },
          "metadata": {},
          "execution_count": 409
        }
      ]
    },
    {
      "cell_type": "code",
      "source": [
        "\n",
        "def sigmoid(x):\n",
        "    return 1 / (1 + np.exp(-x))\n",
        "\n",
        "def softmax(x):\n",
        "    return np.exp(x) / np.sum(exp(x))\n",
        "\n",
        "\n",
        "\n",
        "def sigmoid_derivative(x):\n",
        "    return x * (1 - x)\n"
      ],
      "metadata": {
        "id": "b_h8TVvvxZf-"
      },
      "execution_count": 410,
      "outputs": []
    },
    {
      "cell_type": "code",
      "source": [
        "def forward_pass(X):\n",
        "    Z1 = np.dot(w1, X) + b1\n",
        "    A1 = sigmoid(Z1)\n",
        "    Z2 = np.dot(w2, A1) + b2\n",
        "    A2 = sigmoid(Z2)\n",
        "    Z3 = np.dot(w3, A2) + b3\n",
        "    output = sigmoid(Z3)\n",
        "    return A1, A2, output\n",
        "\n",
        "def compute_loss(output, y):\n",
        "    m = y.shape[1]\n",
        "    logprobs = np.multiply(np.log(output), y) + np.multiply((1 - y), np.log(1 - output))\n",
        "    loss = -np.sum(logprobs) / m\n",
        "    return loss\n"
      ],
      "metadata": {
        "id": "AhU3AUhXxbox"
      },
      "execution_count": 411,
      "outputs": []
    },
    {
      "cell_type": "code",
      "source": [
        "forward(X1)"
      ],
      "metadata": {
        "colab": {
          "base_uri": "https://localhost:8080/"
        },
        "id": "Uyd4LacZeuCW",
        "outputId": "bb59dee9-bbec-4c7f-98dc-4c71024a715b"
      },
      "execution_count": 412,
      "outputs": [
        {
          "output_type": "execute_result",
          "data": {
            "text/plain": [
              "(array([[0.49850627],\n",
              "        [0.4985442 ],\n",
              "        [0.49811027],\n",
              "        [0.49885037],\n",
              "        [0.49462579],\n",
              "        [0.50522054],\n",
              "        [0.49899049],\n",
              "        [0.50341378],\n",
              "        [0.50333744],\n",
              "        [0.50284049]]),\n",
              " array([[7.25472305e-01],\n",
              "        [9.99999967e-01],\n",
              "        [9.99940974e-01],\n",
              "        [2.05255337e-35],\n",
              "        [1.45816552e-16],\n",
              "        [1.39117480e-05],\n",
              "        [1.00000000e+00],\n",
              "        [1.68303183e-08],\n",
              "        [9.99999963e-01],\n",
              "        [1.00000000e+00],\n",
              "        [2.82304065e-17],\n",
              "        [2.66542227e-14],\n",
              "        [1.00000000e+00],\n",
              "        [9.99999900e-01],\n",
              "        [2.73649988e-30],\n",
              "        [9.85381377e-01]]),\n",
              " array([[0.51443756],\n",
              "        [0.49661295],\n",
              "        [0.50142417],\n",
              "        [0.50582442],\n",
              "        [0.48900035],\n",
              "        [0.50674464],\n",
              "        [0.49723129],\n",
              "        [0.4940851 ],\n",
              "        [0.49603079],\n",
              "        [0.49971404],\n",
              "        [0.49752444],\n",
              "        [0.50387492],\n",
              "        [0.49290283],\n",
              "        [0.5070188 ],\n",
              "        [0.49330635],\n",
              "        [0.49760526]]))"
            ]
          },
          "metadata": {},
          "execution_count": 412
        }
      ]
    },
    {
      "cell_type": "code",
      "source": [
        "w3.shape"
      ],
      "metadata": {
        "colab": {
          "base_uri": "https://localhost:8080/"
        },
        "id": "fK-E34iOgOnZ",
        "outputId": "3de00914-dd59-49e9-957a-8c86bd1a881e"
      },
      "execution_count": 413,
      "outputs": [
        {
          "output_type": "execute_result",
          "data": {
            "text/plain": [
              "(10, 16)"
            ]
          },
          "metadata": {},
          "execution_count": 413
        }
      ]
    },
    {
      "cell_type": "code",
      "source": [
        "def backprop(X, y, A1, A2, output, learning_rate=0.01):\n",
        "    global w1, w2, w3, b1, b2, b3\n",
        "\n",
        "    # Output layer error\n",
        "    output_error = output - y\n",
        "    output_delta = output_error * sigmoid_derivative(output)\n",
        "\n",
        "    # Error for Hidden Layer 2\n",
        "    A2_error = w3.T.dot(output_delta)\n",
        "    A2_delta = A2_error * sigmoid_derivative(A2)\n",
        "\n",
        "    # Error for Hidden Layer 1\n",
        "    A1_error = w2.T.dot(A2_delta)\n",
        "    A1_delta = A1_error * sigmoid_derivative(A1)\n",
        "\n",
        "    # Update weights and biases\n",
        "    w3 -= learning_rate * output_delta.dot(A2.T)\n",
        "    b3 -= learning_rate * np.sum(output_delta, axis=1, keepdims=True)\n",
        "\n",
        "    w2 -= learning_rate * A1.dot(A2_delta.T)\n",
        "    b2 -= learning_rate * np.sum(A2_delta, axis=1, keepdims=True)\n",
        "\n",
        "    w1 -= learning_rate * X.T.dot(A1_delta)\n",
        "    b1 -= learning_rate * np.sum(A1_delta, axis=1, keepdims=True)\n"
      ],
      "metadata": {
        "id": "Avxzw60OyLzh"
      },
      "execution_count": 419,
      "outputs": []
    },
    {
      "cell_type": "code",
      "source": [
        "def train(X, y, epochs, learning_rate=0.01):\n",
        "    for epoch in range(epochs):\n",
        "        A1, A2, output = forward_pass(X)\n",
        "        loss = compute_loss(output, y)\n",
        "        backprop(X, y, A1, A2, output, learning_rate)\n",
        "        if epoch % 1 == 0:  # Modify as needed for less frequent logging\n",
        "            print(f\"Epoch {epoch+1}, Loss: {loss:.4f}\")\n",
        "\n",
        "# Example call\n",
        "train(X1, y1, epochs, learning_rate=0.01)\n"
      ],
      "metadata": {
        "colab": {
          "base_uri": "https://localhost:8080/",
          "height": 367
        },
        "id": "Ve_AdiQKucd4",
        "outputId": "422fcb2d-40d2-43fb-f1fa-cde0b8240eec"
      },
      "execution_count": 422,
      "outputs": [
        {
          "output_type": "error",
          "ename": "ValueError",
          "evalue": "shapes (1,784) and (16,1) not aligned: 784 (dim 1) != 16 (dim 0)",
          "traceback": [
            "\u001b[0;31m---------------------------------------------------------------------------\u001b[0m",
            "\u001b[0;31mValueError\u001b[0m                                Traceback (most recent call last)",
            "\u001b[0;32m<ipython-input-422-53a02772a29c>\u001b[0m in \u001b[0;36m<cell line: 10>\u001b[0;34m()\u001b[0m\n\u001b[1;32m      8\u001b[0m \u001b[0;34m\u001b[0m\u001b[0m\n\u001b[1;32m      9\u001b[0m \u001b[0;31m# Example call\u001b[0m\u001b[0;34m\u001b[0m\u001b[0;34m\u001b[0m\u001b[0m\n\u001b[0;32m---> 10\u001b[0;31m \u001b[0mtrain\u001b[0m\u001b[0;34m(\u001b[0m\u001b[0mX1\u001b[0m\u001b[0;34m,\u001b[0m \u001b[0my1\u001b[0m\u001b[0;34m,\u001b[0m \u001b[0mepochs\u001b[0m\u001b[0;34m,\u001b[0m \u001b[0mlearning_rate\u001b[0m\u001b[0;34m=\u001b[0m\u001b[0;36m0.01\u001b[0m\u001b[0;34m)\u001b[0m\u001b[0;34m\u001b[0m\u001b[0;34m\u001b[0m\u001b[0m\n\u001b[0m",
            "\u001b[0;32m<ipython-input-422-53a02772a29c>\u001b[0m in \u001b[0;36mtrain\u001b[0;34m(X, y, epochs, learning_rate)\u001b[0m\n\u001b[1;32m      3\u001b[0m         \u001b[0mA1\u001b[0m\u001b[0;34m,\u001b[0m \u001b[0mA2\u001b[0m\u001b[0;34m,\u001b[0m \u001b[0moutput\u001b[0m \u001b[0;34m=\u001b[0m \u001b[0mforward_pass\u001b[0m\u001b[0;34m(\u001b[0m\u001b[0mX\u001b[0m\u001b[0;34m)\u001b[0m\u001b[0;34m\u001b[0m\u001b[0;34m\u001b[0m\u001b[0m\n\u001b[1;32m      4\u001b[0m         \u001b[0mloss\u001b[0m \u001b[0;34m=\u001b[0m \u001b[0mcompute_loss\u001b[0m\u001b[0;34m(\u001b[0m\u001b[0moutput\u001b[0m\u001b[0;34m,\u001b[0m \u001b[0my\u001b[0m\u001b[0;34m)\u001b[0m\u001b[0;34m\u001b[0m\u001b[0;34m\u001b[0m\u001b[0m\n\u001b[0;32m----> 5\u001b[0;31m         \u001b[0mbackprop\u001b[0m\u001b[0;34m(\u001b[0m\u001b[0mX\u001b[0m\u001b[0;34m,\u001b[0m \u001b[0my\u001b[0m\u001b[0;34m,\u001b[0m \u001b[0mA1\u001b[0m\u001b[0;34m,\u001b[0m \u001b[0mA2\u001b[0m\u001b[0;34m,\u001b[0m \u001b[0moutput\u001b[0m\u001b[0;34m,\u001b[0m \u001b[0mlearning_rate\u001b[0m\u001b[0;34m)\u001b[0m\u001b[0;34m\u001b[0m\u001b[0;34m\u001b[0m\u001b[0m\n\u001b[0m\u001b[1;32m      6\u001b[0m         \u001b[0;32mif\u001b[0m \u001b[0mepoch\u001b[0m \u001b[0;34m%\u001b[0m \u001b[0;36m1\u001b[0m \u001b[0;34m==\u001b[0m \u001b[0;36m0\u001b[0m\u001b[0;34m:\u001b[0m  \u001b[0;31m# Modify as needed for less frequent logging\u001b[0m\u001b[0;34m\u001b[0m\u001b[0;34m\u001b[0m\u001b[0m\n\u001b[1;32m      7\u001b[0m             \u001b[0mprint\u001b[0m\u001b[0;34m(\u001b[0m\u001b[0;34mf\"Epoch {epoch+1}, Loss: {loss:.4f}\"\u001b[0m\u001b[0;34m)\u001b[0m\u001b[0;34m\u001b[0m\u001b[0;34m\u001b[0m\u001b[0m\n",
            "\u001b[0;32m<ipython-input-419-c883d0c9d9f9>\u001b[0m in \u001b[0;36mbackprop\u001b[0;34m(X, y, A1, A2, output, learning_rate)\u001b[0m\n\u001b[1;32m     21\u001b[0m     \u001b[0mb2\u001b[0m \u001b[0;34m-=\u001b[0m \u001b[0mlearning_rate\u001b[0m \u001b[0;34m*\u001b[0m \u001b[0mnp\u001b[0m\u001b[0;34m.\u001b[0m\u001b[0msum\u001b[0m\u001b[0;34m(\u001b[0m\u001b[0mA2_delta\u001b[0m\u001b[0;34m,\u001b[0m \u001b[0maxis\u001b[0m\u001b[0;34m=\u001b[0m\u001b[0;36m1\u001b[0m\u001b[0;34m,\u001b[0m \u001b[0mkeepdims\u001b[0m\u001b[0;34m=\u001b[0m\u001b[0;32mTrue\u001b[0m\u001b[0;34m)\u001b[0m\u001b[0;34m\u001b[0m\u001b[0;34m\u001b[0m\u001b[0m\n\u001b[1;32m     22\u001b[0m \u001b[0;34m\u001b[0m\u001b[0m\n\u001b[0;32m---> 23\u001b[0;31m     \u001b[0mw1\u001b[0m \u001b[0;34m-=\u001b[0m \u001b[0mlearning_rate\u001b[0m \u001b[0;34m*\u001b[0m \u001b[0mX\u001b[0m\u001b[0;34m.\u001b[0m\u001b[0mT\u001b[0m\u001b[0;34m.\u001b[0m\u001b[0mdot\u001b[0m\u001b[0;34m(\u001b[0m\u001b[0mA1_delta\u001b[0m\u001b[0;34m)\u001b[0m\u001b[0;34m\u001b[0m\u001b[0;34m\u001b[0m\u001b[0m\n\u001b[0m\u001b[1;32m     24\u001b[0m     \u001b[0mb1\u001b[0m \u001b[0;34m-=\u001b[0m \u001b[0mlearning_rate\u001b[0m \u001b[0;34m*\u001b[0m \u001b[0mnp\u001b[0m\u001b[0;34m.\u001b[0m\u001b[0msum\u001b[0m\u001b[0;34m(\u001b[0m\u001b[0mA1_delta\u001b[0m\u001b[0;34m,\u001b[0m \u001b[0maxis\u001b[0m\u001b[0;34m=\u001b[0m\u001b[0;36m1\u001b[0m\u001b[0;34m,\u001b[0m \u001b[0mkeepdims\u001b[0m\u001b[0;34m=\u001b[0m\u001b[0;32mTrue\u001b[0m\u001b[0;34m)\u001b[0m\u001b[0;34m\u001b[0m\u001b[0;34m\u001b[0m\u001b[0m\n",
            "\u001b[0;31mValueError\u001b[0m: shapes (1,784) and (16,1) not aligned: 784 (dim 1) != 16 (dim 0)"
          ]
        }
      ]
    },
    {
      "cell_type": "code",
      "source": [
        "print(\"Shape of X.T:\", X.T.shape)\n",
        "print(\"Shape of A1_delta:\", A1_delta.shape)\n"
      ],
      "metadata": {
        "colab": {
          "base_uri": "https://localhost:8080/",
          "height": 207
        },
        "id": "m5qKfM8MwTH_",
        "outputId": "0ca5e341-f2c6-4088-be95-0285d9744f15"
      },
      "execution_count": 421,
      "outputs": [
        {
          "output_type": "stream",
          "name": "stdout",
          "text": [
            "Shape of X.T: (784, 1)\n"
          ]
        },
        {
          "output_type": "error",
          "ename": "NameError",
          "evalue": "name 'A1_delta' is not defined",
          "traceback": [
            "\u001b[0;31m---------------------------------------------------------------------------\u001b[0m",
            "\u001b[0;31mNameError\u001b[0m                                 Traceback (most recent call last)",
            "\u001b[0;32m<ipython-input-421-6b52a8f5964f>\u001b[0m in \u001b[0;36m<cell line: 2>\u001b[0;34m()\u001b[0m\n\u001b[1;32m      1\u001b[0m \u001b[0mprint\u001b[0m\u001b[0;34m(\u001b[0m\u001b[0;34m\"Shape of X.T:\"\u001b[0m\u001b[0;34m,\u001b[0m \u001b[0mX\u001b[0m\u001b[0;34m.\u001b[0m\u001b[0mT\u001b[0m\u001b[0;34m.\u001b[0m\u001b[0mshape\u001b[0m\u001b[0;34m)\u001b[0m\u001b[0;34m\u001b[0m\u001b[0;34m\u001b[0m\u001b[0m\n\u001b[0;32m----> 2\u001b[0;31m \u001b[0mprint\u001b[0m\u001b[0;34m(\u001b[0m\u001b[0;34m\"Shape of A1_delta:\"\u001b[0m\u001b[0;34m,\u001b[0m \u001b[0mA1_delta\u001b[0m\u001b[0;34m.\u001b[0m\u001b[0mshape\u001b[0m\u001b[0;34m)\u001b[0m\u001b[0;34m\u001b[0m\u001b[0;34m\u001b[0m\u001b[0m\n\u001b[0m",
            "\u001b[0;31mNameError\u001b[0m: name 'A1_delta' is not defined"
          ]
        }
      ]
    },
    {
      "cell_type": "code",
      "source": [
        "A2.shape"
      ],
      "metadata": {
        "colab": {
          "base_uri": "https://localhost:8080/"
        },
        "id": "Ls-aBGTiztNc",
        "outputId": "c0ba4f2d-bd4d-4ca5-ada1-ad2568106c44"
      },
      "execution_count": 386,
      "outputs": [
        {
          "output_type": "execute_result",
          "data": {
            "text/plain": [
              "(16, 1)"
            ]
          },
          "metadata": {},
          "execution_count": 386
        }
      ]
    },
    {
      "cell_type": "code",
      "source": [
        "output.shape"
      ],
      "metadata": {
        "colab": {
          "base_uri": "https://localhost:8080/"
        },
        "id": "xfumyrjyyh_f",
        "outputId": "4d932e4f-7c86-4810-abf4-a3a6252ce811"
      },
      "execution_count": 387,
      "outputs": [
        {
          "output_type": "execute_result",
          "data": {
            "text/plain": [
              "(10, 1)"
            ]
          },
          "metadata": {},
          "execution_count": 387
        }
      ]
    },
    {
      "cell_type": "code",
      "source": [
        "y1.shape"
      ],
      "metadata": {
        "colab": {
          "base_uri": "https://localhost:8080/"
        },
        "id": "xy-f4fMqxMSd",
        "outputId": "6d23560f-87f3-415a-9a00-e879e1408475"
      },
      "execution_count": 388,
      "outputs": [
        {
          "output_type": "execute_result",
          "data": {
            "text/plain": [
              "(10, 1)"
            ]
          },
          "metadata": {},
          "execution_count": 388
        }
      ]
    },
    {
      "cell_type": "code",
      "source": [
        "sigmoid_derivative(output).shape\n"
      ],
      "metadata": {
        "colab": {
          "base_uri": "https://localhost:8080/"
        },
        "id": "HwDTuBvywkKu",
        "outputId": "938002c8-624b-4101-9b75-8b9e5179979e"
      },
      "execution_count": 389,
      "outputs": [
        {
          "output_type": "execute_result",
          "data": {
            "text/plain": [
              "(10, 1)"
            ]
          },
          "metadata": {},
          "execution_count": 389
        }
      ]
    },
    {
      "cell_type": "code",
      "source": [
        "]"
      ],
      "metadata": {
        "id": "izEyKdawyuJm"
      },
      "execution_count": 390,
      "outputs": []
    },
    {
      "cell_type": "code",
      "source": [
        "input_size = 784  # for MNIST data, each image is 28x28 pixels\n",
        "hidden_size1 = 16\n",
        "hidden_size2 = 16\n",
        "output_size = 10  # assuming a classification task with 10 classes\n",
        "epochs = 10\n",
        "\n",
        "# Initialize the network\n",
        "initialize_network(input_size, hidden_size1, hidden_size2, output_size)\n",
        "\n",
        "# Assuming X and y are already loaded and preprocessed\n",
        "train(X1, y1, epochs, learning_rate=0.01)\n"
      ],
      "metadata": {
        "colab": {
          "base_uri": "https://localhost:8080/",
          "height": 367
        },
        "id": "fkaLUjD-zC0y",
        "outputId": "e460e0f3-d388-4a65-928b-37a66e52700a"
      },
      "execution_count": 423,
      "outputs": [
        {
          "output_type": "error",
          "ename": "ValueError",
          "evalue": "shapes (1,784) and (16,1) not aligned: 784 (dim 1) != 16 (dim 0)",
          "traceback": [
            "\u001b[0;31m---------------------------------------------------------------------------\u001b[0m",
            "\u001b[0;31mValueError\u001b[0m                                Traceback (most recent call last)",
            "\u001b[0;32m<ipython-input-423-ba4a81448a08>\u001b[0m in \u001b[0;36m<cell line: 11>\u001b[0;34m()\u001b[0m\n\u001b[1;32m      9\u001b[0m \u001b[0;34m\u001b[0m\u001b[0m\n\u001b[1;32m     10\u001b[0m \u001b[0;31m# Assuming X and y are already loaded and preprocessed\u001b[0m\u001b[0;34m\u001b[0m\u001b[0;34m\u001b[0m\u001b[0m\n\u001b[0;32m---> 11\u001b[0;31m \u001b[0mtrain\u001b[0m\u001b[0;34m(\u001b[0m\u001b[0mX1\u001b[0m\u001b[0;34m,\u001b[0m \u001b[0my1\u001b[0m\u001b[0;34m,\u001b[0m \u001b[0mepochs\u001b[0m\u001b[0;34m,\u001b[0m \u001b[0mlearning_rate\u001b[0m\u001b[0;34m=\u001b[0m\u001b[0;36m0.01\u001b[0m\u001b[0;34m)\u001b[0m\u001b[0;34m\u001b[0m\u001b[0;34m\u001b[0m\u001b[0m\n\u001b[0m",
            "\u001b[0;32m<ipython-input-422-53a02772a29c>\u001b[0m in \u001b[0;36mtrain\u001b[0;34m(X, y, epochs, learning_rate)\u001b[0m\n\u001b[1;32m      3\u001b[0m         \u001b[0mA1\u001b[0m\u001b[0;34m,\u001b[0m \u001b[0mA2\u001b[0m\u001b[0;34m,\u001b[0m \u001b[0moutput\u001b[0m \u001b[0;34m=\u001b[0m \u001b[0mforward_pass\u001b[0m\u001b[0;34m(\u001b[0m\u001b[0mX\u001b[0m\u001b[0;34m)\u001b[0m\u001b[0;34m\u001b[0m\u001b[0;34m\u001b[0m\u001b[0m\n\u001b[1;32m      4\u001b[0m         \u001b[0mloss\u001b[0m \u001b[0;34m=\u001b[0m \u001b[0mcompute_loss\u001b[0m\u001b[0;34m(\u001b[0m\u001b[0moutput\u001b[0m\u001b[0;34m,\u001b[0m \u001b[0my\u001b[0m\u001b[0;34m)\u001b[0m\u001b[0;34m\u001b[0m\u001b[0;34m\u001b[0m\u001b[0m\n\u001b[0;32m----> 5\u001b[0;31m         \u001b[0mbackprop\u001b[0m\u001b[0;34m(\u001b[0m\u001b[0mX\u001b[0m\u001b[0;34m,\u001b[0m \u001b[0my\u001b[0m\u001b[0;34m,\u001b[0m \u001b[0mA1\u001b[0m\u001b[0;34m,\u001b[0m \u001b[0mA2\u001b[0m\u001b[0;34m,\u001b[0m \u001b[0moutput\u001b[0m\u001b[0;34m,\u001b[0m \u001b[0mlearning_rate\u001b[0m\u001b[0;34m)\u001b[0m\u001b[0;34m\u001b[0m\u001b[0;34m\u001b[0m\u001b[0m\n\u001b[0m\u001b[1;32m      6\u001b[0m         \u001b[0;32mif\u001b[0m \u001b[0mepoch\u001b[0m \u001b[0;34m%\u001b[0m \u001b[0;36m1\u001b[0m \u001b[0;34m==\u001b[0m \u001b[0;36m0\u001b[0m\u001b[0;34m:\u001b[0m  \u001b[0;31m# Modify as needed for less frequent logging\u001b[0m\u001b[0;34m\u001b[0m\u001b[0;34m\u001b[0m\u001b[0m\n\u001b[1;32m      7\u001b[0m             \u001b[0mprint\u001b[0m\u001b[0;34m(\u001b[0m\u001b[0;34mf\"Epoch {epoch+1}, Loss: {loss:.4f}\"\u001b[0m\u001b[0;34m)\u001b[0m\u001b[0;34m\u001b[0m\u001b[0;34m\u001b[0m\u001b[0m\n",
            "\u001b[0;32m<ipython-input-419-c883d0c9d9f9>\u001b[0m in \u001b[0;36mbackprop\u001b[0;34m(X, y, A1, A2, output, learning_rate)\u001b[0m\n\u001b[1;32m     21\u001b[0m     \u001b[0mb2\u001b[0m \u001b[0;34m-=\u001b[0m \u001b[0mlearning_rate\u001b[0m \u001b[0;34m*\u001b[0m \u001b[0mnp\u001b[0m\u001b[0;34m.\u001b[0m\u001b[0msum\u001b[0m\u001b[0;34m(\u001b[0m\u001b[0mA2_delta\u001b[0m\u001b[0;34m,\u001b[0m \u001b[0maxis\u001b[0m\u001b[0;34m=\u001b[0m\u001b[0;36m1\u001b[0m\u001b[0;34m,\u001b[0m \u001b[0mkeepdims\u001b[0m\u001b[0;34m=\u001b[0m\u001b[0;32mTrue\u001b[0m\u001b[0;34m)\u001b[0m\u001b[0;34m\u001b[0m\u001b[0;34m\u001b[0m\u001b[0m\n\u001b[1;32m     22\u001b[0m \u001b[0;34m\u001b[0m\u001b[0m\n\u001b[0;32m---> 23\u001b[0;31m     \u001b[0mw1\u001b[0m \u001b[0;34m-=\u001b[0m \u001b[0mlearning_rate\u001b[0m \u001b[0;34m*\u001b[0m \u001b[0mX\u001b[0m\u001b[0;34m.\u001b[0m\u001b[0mT\u001b[0m\u001b[0;34m.\u001b[0m\u001b[0mdot\u001b[0m\u001b[0;34m(\u001b[0m\u001b[0mA1_delta\u001b[0m\u001b[0;34m)\u001b[0m\u001b[0;34m\u001b[0m\u001b[0;34m\u001b[0m\u001b[0m\n\u001b[0m\u001b[1;32m     24\u001b[0m     \u001b[0mb1\u001b[0m \u001b[0;34m-=\u001b[0m \u001b[0mlearning_rate\u001b[0m \u001b[0;34m*\u001b[0m \u001b[0mnp\u001b[0m\u001b[0;34m.\u001b[0m\u001b[0msum\u001b[0m\u001b[0;34m(\u001b[0m\u001b[0mA1_delta\u001b[0m\u001b[0;34m,\u001b[0m \u001b[0maxis\u001b[0m\u001b[0;34m=\u001b[0m\u001b[0;36m1\u001b[0m\u001b[0;34m,\u001b[0m \u001b[0mkeepdims\u001b[0m\u001b[0;34m=\u001b[0m\u001b[0;32mTrue\u001b[0m\u001b[0;34m)\u001b[0m\u001b[0;34m\u001b[0m\u001b[0;34m\u001b[0m\u001b[0m\n",
            "\u001b[0;31mValueError\u001b[0m: shapes (1,784) and (16,1) not aligned: 784 (dim 1) != 16 (dim 0)"
          ]
        }
      ]
    },
    {
      "cell_type": "code",
      "source": [
        "\n",
        "# Assuming y1 is a target vector for a batch of examples\n",
        "if y1.shape[0] != output_size:\n",
        "    print(\"Mismatch in the target shape and output layer configuration.\")\n",
        "    print(\"Target shape received:\", y1.shape)\n",
        "    print(\"Expected shape:\", (output_size, y1.shape[1]))\n",
        "else:\n",
        "    print(\"okay\")\n"
      ],
      "metadata": {
        "colab": {
          "base_uri": "https://localhost:8080/"
        },
        "id": "-tqbf4Xj9-ik",
        "outputId": "bc1e9cf5-bf5f-4cb1-bf58-87d336203336"
      },
      "execution_count": 393,
      "outputs": [
        {
          "output_type": "stream",
          "name": "stdout",
          "text": [
            "okay\n"
          ]
        }
      ]
    },
    {
      "cell_type": "code",
      "source": [],
      "metadata": {
        "id": "6pZvN_U12QjO"
      },
      "execution_count": 374,
      "outputs": []
    }
  ]
}